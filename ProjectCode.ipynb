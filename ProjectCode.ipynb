{
 "cells": [
  {
   "cell_type": "code",
   "execution_count": 1,
   "metadata": {},
   "outputs": [],
   "source": [
    "import xpress as xp\n",
    "import pandas as pd\n",
    "import numpy as np\n",
    "import matplotlib.pyplot as plt"
   ]
  },
  {
   "cell_type": "code",
   "execution_count": 2,
   "metadata": {},
   "outputs": [
    {
     "name": "stdout",
     "output_type": "stream",
     "text": [
      "Using the license file found in your Xpress installation. If you want to use this license and no longer want to see this message, use the following code before using the xpress module:\n",
      "  xpress.init('C:/xpressmp/bin/xpauth.xpr')\n"
     ]
    }
   ],
   "source": [
    "# Create a problem \n",
    "stage_1 = xp.problem(name='F_O stage 1')"
   ]
  },
  {
   "cell_type": "code",
   "execution_count": 3,
   "metadata": {},
   "outputs": [],
   "source": [
    "# Import data into panda dataframes\n",
    "\n",
    "df_rooms = pd.read_excel('Relevant Data Room.xlsx', header=0)\n",
    "df_course_demand = pd.read_excel('Course Data.xlsx', header=0, sheet_name = 'Dict')[['Size']]\n",
    "df_courses = pd.read_excel('Course Data.xlsx', header=0, sheet_name='Sheet1')\n",
    "df_curricula = pd.read_excel('Course Data.xlsx', header=0, sheet_name='Programs')\n",
    "\n",
    "df_rooms_types = pd.read_excel('Relevant Data Room.xlsx', header=0, sheet_name='ROOM_DIC')[['ROOM INDEX', 'ROOM NAME', 'CAP', 'ROOM LAYOUT']]"
   ]
  },
  {
   "cell_type": "code",
   "execution_count": 4,
   "metadata": {},
   "outputs": [],
   "source": [
    "cu_1 = list(df_curricula['Y1'])\n",
    "cu_2 = list(df_curricula['Y2'])\n",
    "cu_3 = list(df_curricula['Y3'])"
   ]
  },
  {
   "cell_type": "code",
   "execution_count": 5,
   "metadata": {},
   "outputs": [],
   "source": [
    "course_code = df_courses['Course Code'].to_numpy()"
   ]
  },
  {
   "cell_type": "code",
   "execution_count": 6,
   "metadata": {},
   "outputs": [],
   "source": [
    "# Index sets\n",
    "courses = list(df_courses['Course'])\n",
    "course_code = df_courses['Course Code'].to_numpy()\n",
    "demand = list(df_course_demand['Size'])\n",
    "curricula = list(df_curricula['Code'])\n",
    "timeslots = [i for i in range(42)] # Timeslots in a week, taking away Wednesday afternoon\n",
    "\n",
    "days = ['M_O', 'T_O', 'W_O', 'TH_O', 'F_O'] #Days for odd week\n",
    "rooms = list(df_rooms['ROOM INDEX'])\n",
    "room_type = [1,2,3]\n",
    "years = [1,2,3,4,5,'PGT']\n",
    "#Lectures can happen in Theatre, Classroom\n",
    "#Workshops happen in Teaching Studio, Classroom, Boardroom \n",
    "class_type = ['L', 'W']\n",
    "workshop_pattern = [1, 2, 3]\n",
    "\n",
    "capacities = sorted(np.append(df_rooms['CAP'].unique(), 0))\n",
    "# Parameters \n",
    "lecture_hours = list(df_courses['Lecture - Duration'])\n",
    "workshop_hours = list(df_courses['Workshop - Duration'])\n",
    "\n",
    "\n",
    "\n",
    "# Create the variables\n",
    "x = np.array([xp.var( name='x_{0}_{1}_{2}'.format(i, j, k), vartype=xp.binary)\n",
    "                  for i in courses for j in timeslots for k in class_type], dtype=xp.npvar).reshape(len(courses), len(timeslots), len(class_type))\n",
    "\n",
    "y = np.array([xp.var( name='y_{0}_{1}_{2}_{3}'.format(i, j, s, k), vartype=xp.binary)\n",
    "                  for i in courses for j in timeslots for s in capacities for k in class_type], dtype=xp.npvar).reshape(len(courses), len(timeslots), len(capacities), len(class_type))\n",
    "\n",
    "z = np.array([xp.var( name='z_{0}_{1}'.format(i, d), vartype=xp.binary)\n",
    "                  for i in courses for d in days], dtype=xp.npvar).reshape(len(courses), len(days))\n",
    "\n",
    "w = np.array([xp.var( name='w_{0}'.format(i))\n",
    "                    for i in courses], dtype=xp.npvar)\n",
    "\n",
    "r = np.array([xp.var( name='r_{0}_{1}_{2}'.format(cu, j, k), vartype=xp.binary)\n",
    "                  for  cu in curricula for j in timeslots for k in range(3)], dtype=xp.npvar).reshape(len(curricula), len(timeslots), 3)\n",
    "\n",
    "v = np.array([xp.var( name='v_{0}_{1}'.format(cu, j), vartype=xp.binary)\n",
    "                  for cu in curricula for j in timeslots], dtype=xp.npvar).reshape(len(curricula), len(timeslots))\n",
    "\n",
    "#counts number of clashes \n",
    "h = np.array([xp.var( name='h_{0}_{1}'.format(i, j), lb=0)\n",
    "                    for i in years for j in timeslots], dtype=xp.npvar).reshape(len(years), len(timeslots))\n",
    "\n",
    "\n"
   ]
  },
  {
   "cell_type": "code",
   "execution_count": 7,
   "metadata": {},
   "outputs": [],
   "source": [
    "# Add the variables to the problem\n",
    "stage_1.addVariable(x, y, z, w, r, v, h)"
   ]
  },
  {
   "cell_type": "code",
   "execution_count": 8,
   "metadata": {},
   "outputs": [],
   "source": [
    "capacities_2 = df_rooms['CAP']\n",
    "room_layout = df_rooms_types['ROOM LAYOUT']\n",
    "rooms_L = np.where(room_layout == 1)[0]\n",
    "rooms_W = np.where(room_layout == 2)[0]\n",
    "rooms_both = np.where(room_layout == 3)[0]"
   ]
  },
  {
   "cell_type": "code",
   "execution_count": 9,
   "metadata": {},
   "outputs": [],
   "source": [
    "capacities_L = capacities_2[rooms_L]\n",
    "capacities_W = capacities_2[rooms_W]\n",
    "capacities_both = capacities_2[rooms_both]"
   ]
  },
  {
   "cell_type": "code",
   "execution_count": 10,
   "metadata": {},
   "outputs": [],
   "source": [
    "#Add constraints\n",
    "\n",
    "#C1: A course i in C should be assigned exactly L(c) lectures that is L(c)== #timeslots(c)\n",
    "C1_L = [xp.Sum(x[i, j, 0] for j in (timeslots)) == lecture_hours[i] for i in range(len(courses))]\n",
    "#for workshops\n",
    "C1_W = [xp.Sum(x[i, j, 1] for j in (timeslots)) == workshop_hours[i] for i in range(len(courses))]\n",
    "\n",
    "#C2: At a given time period we do not assign more courses than available rooms in general for both types\n",
    "\n",
    "#!!! separate the types\n",
    "C2 = [xp.Sum(x[i, j, k] for i in range(len(courses)) for k in range(len(class_type))) <= len(rooms) for j in (timeslots)]\n",
    "\n",
    "#C3: Makes sure that if a room is assigned to a course in a time period, then course is assigned to that time period\n",
    "C3 = [x[i,j,k] - y[i,j,s,k] >= 0 for i in range(len(courses)) for j in (timeslots) for k in range(len(class_type)) for s in range(len(capacities))]\n",
    "\n",
    "#C4: ? Not needed, possible future implementation\n",
    "\n",
    "#C5: Calculates if classtypes from a course are planned on a day \n",
    "C5 = [xp.Sum(x[i,j,k] for j in (timeslots)) - z[i,d] >= 0 for i in range(len(courses)) for k in (range(len(class_type))) for d in range(len((days)))]\n",
    "\n",
    "#C6: Violation of mnd(c)\n",
    "#C6 = Not needed, possible future implementation\n",
    "\n",
    "#C7: Only one course from curriculum is planned at timeslot t\n",
    "cu_1 = list(df_curricula['Y1'])\n",
    "cu_2 = list(df_curricula['Y2'])\n",
    "cu_3 = list(df_curricula['Y3'])\n",
    "\n",
    "\n",
    "C7_1 = [xp.Sum(x[i,j,k] for i in np.where(np.isin(course_code, np.array(cu_1[cu].split(', '))))[0] for k in range(len(class_type))) -r[cu, j, 0] == 0 for cu in range(len(curricula)) for j in (timeslots)]\n",
    "C7_2 = [xp.Sum(x[i,j,k] for i in np.where(np.isin(course_code, np.array(cu_2[cu].split(', '))))[0] for k in range(len(class_type))) -r[cu, j, 1] == 0 for cu in range(len(curricula)) for j in (timeslots)]\n",
    "C7_3 = [xp.Sum(x[i,j,k] for i in np.where(np.isin(course_code, np.array(cu_3[cu].split(', '))))[0] for k in range(len(class_type))) -r[cu, j, 2] == 0 for cu in range(len(curricula)) for j in (timeslots)]\n",
    "\n",
    "#C8: Calculates curriculum compactness violation \n",
    "#C8 = [-r[cu,j-1] + r[cu,j] - r[cu, j+1] - v[cu,j] <= 0 for cu in range(len(curricula)) for j in [1,2,3,4,5,6,7]]\n",
    "\n",
    "#C9: Demand is satisfied for classes\n",
    "\n",
    "C9 = [y[i, j, s, k] == 0 for i in range(len(courses)) for j in timeslots for k in range(len(class_type)) for s in range(len(capacities)) if s < demand[i]]\n",
    "\n",
    "\n",
    "\n",
    "df_courses_year = pd.read_excel('Course Data.xlsx', header=0, sheet_name='CoursesYears')\n",
    "year1_courses = df_courses_year['Y1'].dropna().to_numpy()\n",
    "year2_courses = df_courses_year['Y2'].dropna().to_numpy()\n",
    "year3_courses = df_courses_year['Y3'].dropna().to_numpy()\n",
    "year4_courses = df_courses_year['Y4'].dropna().to_numpy()\n",
    "year5_courses = df_courses_year['Y5'].dropna().to_numpy()\n",
    "pgt_courses = df_courses_year['PGT'].dropna().to_numpy()\n",
    "\n",
    "\n",
    "#C10 \n",
    "C10_1 = [xp.Sum(x[i,j,k] for i in np.where(np.isin(course_code, year1_courses))[0] for k in range(len(class_type))) - 1 <= h[0, j] for j in (timeslots)]\n",
    "C10_2 = [xp.Sum(x[i,j,k] for i in np.where(np.isin(course_code, year2_courses))[0] for k in range(len(class_type)))- 1 <= h[1, j] for j in (timeslots)]\n",
    "C10_3 = [xp.Sum(x[i,j,k]  for i in np.where(np.isin(course_code, year3_courses))[0] for k in range(len(class_type))) - 1 <= h[2, j] for j in (timeslots)]\n",
    "C10_4 = [xp.Sum(x[i,j,k] for i in np.where(np.isin(course_code, year4_courses))[0] for k in range(len(class_type))) - 1 <= h[3, j] for j in (timeslots)]\n",
    "C10_5 = [xp.Sum(x[i,j,k] for i in np.where(np.isin(course_code, year5_courses))[0] for k in range(len(class_type))) - 1 <= h[4, j] for j in (timeslots)]\n",
    "C10_PGT = [xp.Sum(x[i,j,k] for i in np.where(np.isin(course_code, pgt_courses))[0] for k in range(len(class_type))) - 1 <= h[5, j] for j in (timeslots)]\n",
    "\n",
    " \n",
    "\n",
    "C11_1 = [x[i, j, 1] <= 1 - x[i, j, 0] for i in range(len(courses)) for j in (timeslots)]\n",
    "C11_2 = [x[i, j, 0] <= 1 - x[i, j, 1] for i in range(len(courses)) for j in (timeslots)]\n",
    "\n",
    "\n",
    "C12_L = [xp.Sum(x[i, j, 0] * demand[i] for i in range(len(courses))) <= np.sum(capacities_L) + np.sum(capacities_both[:7]) for j in (timeslots)]\n",
    "C12_W = [xp.Sum(x[i, j, 1] * demand[i] for i in range(len(courses))) <= np.sum(capacities_W) + np.sum(capacities_both[7:]) for j in (timeslots)]"
   ]
  },
  {
   "cell_type": "code",
   "execution_count": 11,
   "metadata": {},
   "outputs": [],
   "source": [
    "#Add constraints \n",
    "stage_1.addConstraint(C1_L, C1_W, C2, C3, C5, C7_1, C7_2, C7_3, C10_1, C10_2, C10_3, C10_4, C10_5, C10_PGT, C11_1, C11_2, C12_L, C12_W)"
   ]
  },
  {
   "cell_type": "code",
   "execution_count": 12,
   "metadata": {},
   "outputs": [],
   "source": [
    "#Write objective function \n",
    "stage_1.setObjective(xp.Sum(h[i,j] for i in range(len(years)) for j in range(len(timeslots))), sense = xp.minimize)"
   ]
  },
  {
   "cell_type": "code",
   "execution_count": 13,
   "metadata": {},
   "outputs": [
    {
     "name": "stdout",
     "output_type": "stream",
     "text": [
      "FICO Xpress v9.2.2, Hyper, solve started 11:18:12, Apr 4, 2024\n",
      "Heap usage: 91MB (peak 91MB, 3983KB system)\n",
      "Minimizing MILP F_O stage 1 using up to 8 threads and up to 15GB memory, with these control settings:\n",
      "OUTPUTLOG = 1\n",
      "Original problem has:\n",
      "    184566 rows       184830 cols       403586 elements    184531 entities\n",
      "Presolved problem has:\n",
      "      2192 rows         4116 cols        19572 elements      3864 entities\n",
      "Presolve finished in 0 seconds\n",
      "Heap usage: 114MB (peak 207MB, 3983KB system)\n",
      "\n",
      "Coefficient range                    original                 solved        \n",
      "  Coefficients   [min,max] : [ 1.00e+00,  5.60e+02] / [ 1.37e-02,  1.09e+00]\n",
      "  RHS and bounds [min,max] : [ 1.00e+00,  3.99e+03] / [ 1.00e+00,  5.80e+01]\n",
      "  Objective      [min,max] : [ 1.00e+00,  1.00e+00] / [ 1.00e+00,  1.00e+00]\n",
      "Autoscaling applied standard scaling\n",
      "\n",
      "Symmetric problem: generators: 41, support set: 4116\n",
      " Number of orbits: 98, largest orbit: 42\n",
      " Row orbits: 50, row support: 2100\n",
      "Will try to keep branch and bound tree memory usage below 8.4GB\n",
      " *** Solution found:    14.000000   Time:   0.34    Heuristic: e ***\n",
      "Starting concurrent solve with dual (1 thread) and barrier (7 threads)\n",
      "\n",
      "              Concurrent-Solve,   0s\n",
      "            Dual                      Barrier      \n",
      "    objective   dual inf                           \n",
      " D  13.761999   .0000000 |                         \n",
      "-------- cutoff -------- | ----- interrupted ------\n",
      "Concurrent statistics:\n",
      "      Dual: 587 simplex iterations, 0.00s\n",
      "   Barrier: 0 barrier and 0 simplex iterations, 0.01s\n",
      "            Barrier used 7 threads 4 cores\n",
      "            Barrier used AVX support\n",
      "Problem is cut off\n",
      " *** Search completed ***\n",
      "Uncrunching matrix\n",
      "Final MIP objective                   : 1.400000000000000e+01\n",
      "Final MIP bound                       : 1.400000000000000e+01\n",
      "  Solution time / primaldual integral :      0.37s/ 100.000000%\n",
      "  Number of solutions found / nodes   :         1 /         0\n",
      "  Max primal violation      (abs/rel) :       0.0 /       0.0\n",
      "  Max integer violation     (abs    ) :       0.0\n"
     ]
    },
    {
     "data": {
      "text/plain": [
       "(<SolveStatus.COMPLETED: 3>, <SolStatus.OPTIMAL: 1>)"
      ]
     },
     "execution_count": 13,
     "metadata": {},
     "output_type": "execute_result"
    }
   ],
   "source": [
    "stage_1.solve()"
   ]
  },
  {
   "cell_type": "code",
   "execution_count": 14,
   "metadata": {},
   "outputs": [],
   "source": [
    "results = np.array([])\n",
    "timeslots = [i for i in range(9)] # Extract just monday\n",
    "for j in timeslots:\n",
    "    l_2 = np.array([stage_1.getSolution(x[i, j, k]) for i in range(len(course_code)) for k in range(len(class_type))])\n",
    "    results = np.array([*results, l_2])\n"
   ]
  },
  {
   "cell_type": "code",
   "execution_count": 28,
   "metadata": {},
   "outputs": [
    {
     "name": "stdout",
     "output_type": "stream",
     "text": [
      "[-0. -0. -0. -0. -0. -0. -0. -0. -0. -0. -0. -0.  1. -0. -0. -0. -0. -0.\n",
      " -0. -0. -0. -0. -0. -0. -0. -0. -0. -0.  1. -0. -0. -0. -0. -0. -0. -0.\n",
      " -0. -0. -0.  1.  1. -0. -0. -0. -0. -0. -0.  1. -0. -0. -0. -0. -0. -0.\n",
      " -0. -0.  1. -0.  1. -0. -0. -0. -0. -0. -0. -0. -0.  1.  1. -0. -0. -0.\n",
      " -0. -0. -0. -0. -0. -0.  1. -0. -0. -0. -0. -0. -0. -0.  1. -0. -0. -0.\n",
      " -0.  1. -0. -0.]\n"
     ]
    }
   ],
   "source": [
    "# Results for Monday, 9-10 am timeslot. This shows at even positions if a lecture from course i is planned at this timeslot.\n",
    "# The elements at odd positions show if a workshop from course i happens at this timeslot\n",
    "\n",
    "print(results[0])"
   ]
  },
  {
   "cell_type": "code",
   "execution_count": 15,
   "metadata": {},
   "outputs": [],
   "source": [
    "# Create a problem \n",
    "stage_2 = xp.problem(name='F_O stage 2')"
   ]
  },
  {
   "cell_type": "code",
   "execution_count": 16,
   "metadata": {},
   "outputs": [],
   "source": [
    "# Create the variables\n",
    "\n",
    "u = np.array([xp.var( name='u_{0}_{1}_{2}_{3}'.format(i, j, k, l), vartype=xp.binary)\n",
    "                  for i in courses for j in timeslots for k in rooms for l in class_type], dtype=xp.npvar).reshape(len(courses), len(timeslots), len(rooms), len(class_type))\n",
    "#u = np.array([xp.var( name='u_{0}_{1}_{2}'.format(i, j, k), vartype=xp.binary)\n",
    "#                  for i in courses for j in timeslots for k in rooms], dtype=xp.npvar).reshape(len(courses), len(timeslots), len(rooms))\n",
    "\n",
    "t = np.array([xp.var( name='t_{0}_{1}'.format(i, j), vartype=xp.binary)\n",
    "                  for i in courses for j in rooms], dtype=xp.npvar).reshape(len(courses), len(rooms))\n"
   ]
  },
  {
   "cell_type": "code",
   "execution_count": 17,
   "metadata": {},
   "outputs": [],
   "source": [
    "# Add the variables to the problem\n",
    "stage_2.addVariable(u, t)"
   ]
  },
  {
   "cell_type": "code",
   "execution_count": 18,
   "metadata": {},
   "outputs": [],
   "source": [
    "# Constraints\n",
    "\n",
    "b_2 = [xp.Sum(u[i, j, k, l] for j in timeslots) - len(timeslots) * t[i, k] <= 0 for i in range(len(courses)) for k in range(len(rooms)) for l in range(len(class_type))]\n",
    "c_2_L = [xp.Sum(u[i, j, k, 0] for k in np.hstack((rooms_L, rooms_both[:7]))) == 1 for j in timeslots for i in range(len(courses)) if results[j][2*i] == 1]\n",
    "c_2_W = [xp.Sum(u[i, j, k, 1] for k in np.hstack((rooms_W, rooms_both[7:]))) == 1 for j in timeslots for i in range(len(courses)) if results[j][2*i + 1] == 1]\n",
    "# d_2 = [xp.Sum(u[i, j, k, l] for j in timeslots for i in range(len(courses)) for l in range(len(class_type))) <= 1 for k in range(len(rooms))]\n",
    "#b_2 = [xp.Sum(u[i, j, k] for j in timeslots) - len(timeslots) * t[i, k] <= 0 for i in range(len(courses)) for k in range(len(rooms))]\n",
    "#c_2 = [xp.Sum(u[i, j, k] for k in range(len(rooms))) == 1 for j in timeslots for i in range(len(courses)) if np.any(l[j][2*i: 2*i+2] == 1)]\n",
    "#d_2 = [xp.Sum(u[i, j, k] for i in range(len(courses)) for j in timeslots) <= 1 for k in range(len(rooms))]\n"
   ]
  },
  {
   "cell_type": "code",
   "execution_count": 19,
   "metadata": {},
   "outputs": [],
   "source": [
    "#stage_2.addConstraint(b_2, c_2, d_2)\n",
    "stage_2.addConstraint(b_2, c_2_L, c_2_W)"
   ]
  },
  {
   "cell_type": "code",
   "execution_count": 20,
   "metadata": {},
   "outputs": [
    {
     "name": "stdout",
     "output_type": "stream",
     "text": [
      "FICO Xpress v9.2.2, Hyper, solve started 11:18:32, Apr 4, 2024\n",
      "Heap usage: 15MB (peak 15MB, 4830KB system)\n",
      "Minimizing MILP F_O stage 2 using up to 8 threads and up to 15GB memory, with these control settings:\n",
      "OUTPUTLOG = 1\n",
      "Original problem has:\n",
      "      5519 rows        51794 cols        56508 elements     51794 entities\n",
      "Presolved problem has:\n",
      "       344 rows         1436 cols         2564 elements      1436 entities\n",
      "LP relaxation tightened\n",
      "Presolve finished in 0 seconds\n",
      "Heap usage: 21MB (peak 39MB, 4830KB system)\n",
      "\n",
      "Coefficient range                    original                 solved        \n",
      "  Coefficients   [min,max] : [ 1.00e+00,  9.00e+00] / [ 1.25e-01,  1.50e+00]\n",
      "  RHS and bounds [min,max] : [ 1.00e+00,  1.00e+00] / [ 1.00e+00,  1.00e+00]\n",
      "  Objective      [min,max] : [ 1.00e+00,  1.00e+00] / [ 1.00e+00,  1.00e+00]\n",
      "Autoscaling applied standard scaling\n",
      "\n",
      "Symmetric problem: generators: 305, support set: 1436\n",
      " Number of orbits: 12, largest orbit: 288\n",
      " Row orbits: 12, row support: 344\n",
      "Will try to keep branch and bound tree memory usage below 8.4GB\n",
      "Fixed 1116 (of 1116) columns in 9 (of 9) subproblems\n",
      "\n",
      " *** Solution found:    41.000000   Time:   0.08    Heuristic: e ***\n",
      "Starting concurrent solve with dual (1 thread)\n",
      "\n",
      " Concurrent-Solve,   0s\n",
      "            Dual        \n",
      "    objective   dual inf\n",
      " D  41.000000   .0000000\n",
      "-------- cutoff --------\n",
      "Concurrent statistics:\n",
      "      Dual: 60 simplex iterations, 0.00s\n",
      "Problem is cut off\n",
      " *** Search completed ***\n",
      "Uncrunching matrix\n",
      "Final MIP objective                   : 4.100000000000000e+01\n",
      "Final MIP bound                       : 4.100000000000000e+01\n",
      "  Solution time / primaldual integral :      0.08s/ 99.158976%\n",
      "  Number of solutions found / nodes   :         1 /         0\n",
      "  Max primal violation      (abs/rel) :       0.0 /       0.0\n",
      "  Max integer violation     (abs    ) :       0.0\n"
     ]
    },
    {
     "data": {
      "text/plain": [
       "(<SolveStatus.COMPLETED: 3>, <SolStatus.OPTIMAL: 1>)"
      ]
     },
     "execution_count": 20,
     "metadata": {},
     "output_type": "execute_result"
    }
   ],
   "source": [
    "stage_2.setObjective(xp.Sum(t[i, j] for i in range(len(courses)) for j in range(len(rooms))), sense = xp.minimize)\n",
    "stage_2.solve()"
   ]
  },
  {
   "cell_type": "code",
   "execution_count": 23,
   "metadata": {},
   "outputs": [],
   "source": [
    "final_results = np.array([])\n",
    "timeslots = [i for i in range(9)] \n",
    "for j in timeslots:\n",
    "    for k in range(len(rooms)):\n",
    "        l_2 = np.array([stage_2.getSolution(u[i, j, k, l]) for i in range(len(course_code)) for l in range(len(class_type))])\n",
    "        final_results = np.array([*final_results, l_2])\n"
   ]
  },
  {
   "cell_type": "code",
   "execution_count": null,
   "metadata": {},
   "outputs": [],
   "source": []
  }
 ],
 "metadata": {
  "kernelspec": {
   "display_name": "Xpress",
   "language": "python",
   "name": "python3"
  },
  "language_info": {
   "codemirror_mode": {
    "name": "ipython",
    "version": 3
   },
   "file_extension": ".py",
   "mimetype": "text/x-python",
   "name": "python",
   "nbconvert_exporter": "python",
   "pygments_lexer": "ipython3",
   "version": "3.9.18"
  }
 },
 "nbformat": 4,
 "nbformat_minor": 2
}
