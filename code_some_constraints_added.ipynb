{
 "cells": [
  {
   "cell_type": "code",
   "execution_count": 3,
   "metadata": {},
   "outputs": [],
   "source": [
    "#pip install pandas\n"
   ]
  },
  {
   "cell_type": "code",
   "execution_count": 4,
   "metadata": {},
   "outputs": [],
   "source": [
    "#pip install matplotlib"
   ]
  },
  {
   "cell_type": "code",
   "execution_count": 4,
   "metadata": {},
   "outputs": [
    {
     "name": "stdout",
     "output_type": "stream",
     "text": [
      "Collecting openpyxl\n",
      "  Downloading openpyxl-3.1.2-py2.py3-none-any.whl.metadata (2.5 kB)\n",
      "Collecting et-xmlfile (from openpyxl)\n",
      "  Downloading et_xmlfile-1.1.0-py3-none-any.whl.metadata (1.8 kB)\n",
      "Downloading openpyxl-3.1.2-py2.py3-none-any.whl (249 kB)\n",
      "   ---------------------------------------- 0.0/250.0 kB ? eta -:--:--\n",
      "   ---- ----------------------------------- 30.7/250.0 kB 1.4 MB/s eta 0:00:01\n",
      "   ---------------------------------------  245.8/250.0 kB 3.8 MB/s eta 0:00:01\n",
      "   ---------------------------------------- 250.0/250.0 kB 3.1 MB/s eta 0:00:00\n",
      "Downloading et_xmlfile-1.1.0-py3-none-any.whl (4.7 kB)\n",
      "Installing collected packages: et-xmlfile, openpyxl\n",
      "Successfully installed et-xmlfile-1.1.0 openpyxl-3.1.2\n",
      "Note: you may need to restart the kernel to use updated packages.\n"
     ]
    }
   ],
   "source": [
    "pip install openpyxl"
   ]
  },
  {
   "cell_type": "code",
   "execution_count": 3,
   "metadata": {},
   "outputs": [],
   "source": [
    "import xpress as xp\n",
    "import pandas as pd\n",
    "import numpy as np\n",
    "import matplotlib.pyplot as plt"
   ]
  },
  {
   "cell_type": "code",
   "execution_count": 4,
   "metadata": {},
   "outputs": [
    {
     "name": "stdout",
     "output_type": "stream",
     "text": [
      "Using the license file found in your Xpress installation. If you want to use this license and no longer want to see this message, use the following code before using the xpress module:\n",
      "  xpress.init('C:/xpressmp/bin/xpauth.xpr')\n"
     ]
    }
   ],
   "source": [
    "# Create a problem \n",
    "\n",
    "stage_1 = xp.problem(name='F_O stage 1')"
   ]
  },
  {
   "cell_type": "code",
   "execution_count": 58,
   "metadata": {},
   "outputs": [],
   "source": [
    "# Import data into panda dataframes\n",
    "\n",
    "df_rooms = pd.read_excel('Relevant Data Room.xlsx', header=0)\n",
    "df_course_demand = pd.read_excel('Course Data (1).xlsx', header=0, sheet_name = 'Dict')[['Size']]\n",
    "df_courses = pd.read_excel('Course Data (1).xlsx', header=0, sheet_name='Dict')\n",
    "df_curricula = pd.read_excel('Baseline solution(ACHIEVED DELIVERABLE) and extracted data(ONGOING).xlsx', header=0, sheet_name='Curricula')\n",
    "\n",
    "df_rooms_types = pd.read_excel('Relevant Data Room.xlsx', header=0, sheet_name='ROOM_DIC')[['ROOM INDEX', 'ROOM NAME', 'CAP', 'ROOM LAYOUT']]\n",
    "#df_courses"
   ]
  },
  {
   "cell_type": "code",
   "execution_count": 59,
   "metadata": {},
   "outputs": [],
   "source": [
    "# Index sets\n",
    "courses = list(df_courses['Course'])\n",
    "demand = list(df_course_demand['Size'])\n",
    "curricula = list(df_curricula['Code'])\n",
    "timeslots = [i for i in range(9)]\n",
    "days = ['M_O', 'T_O', 'W_O', 'TH_O', 'F_O'] #Days for odd week\n",
    "rooms = list(df_rooms['ROOM INDEX'])\n",
    "room_type = [1,2,3]\n",
    "#Lectures can happen in Theatre, Classroom\n",
    "#Workshops happen in Teaching Studio, Classroom, Boardroom \n",
    "class_type = ['L', 'W']\n",
    "workshop_pattern = [1, 2, 3]\n",
    "\n",
    "capacities = sorted(np.append(df_rooms['CAP'].unique(), 0))\n",
    "# Parameters \n",
    "lecture_hours = list(df_courses['Lecture - Duration'])\n",
    "workshop_hours = list(df_courses['Workshop - Duration'])\n",
    "\n",
    "\n",
    "\n",
    "# Create the variables\n",
    "x = np.array([xp.var( name='x_{0}_{1}_{2}'.format(i, j, k), vartype=xp.binary)\n",
    "                  for i in courses for j in timeslots for k in class_type], dtype=xp.npvar).reshape(len(courses), len(timeslots), len(class_type))\n",
    "\n",
    "y = np.array([xp.var( name='y_{0}_{1}_{2}'.format(i, j, s), vartype=xp.binary)\n",
    "                  for i in courses for j in timeslots for s in capacities], dtype=xp.npvar).reshape(len(courses), len(timeslots), len(capacities))\n",
    "\n",
    "z = np.array([xp.var( name='z_{0}_{1}'.format(i, d), vartype=xp.binary)\n",
    "                  for i in courses for d in days], dtype=xp.npvar).reshape(len(courses), len(days))\n",
    "\n",
    "w = np.array([xp.var( name='w_{0}'.format(i))\n",
    "                    for i in courses], dtype=xp.npvar)\n",
    "\n",
    "r = np.array([xp.var( name='r_{0}_{1}'.format(cu, j), vartype=xp.binary)\n",
    "                  for  cu in curricula for j in timeslots], dtype=xp.npvar).reshape(len(curricula), len(timeslots))\n",
    "\n",
    "v = np.array([xp.var( name='v_{0}_{1}'.format(cu, j), vartype=xp.binary)\n",
    "                  for cu in curricula for j in timeslots], dtype=xp.npvar).reshape(len(curricula), len(timeslots))\n",
    "\n",
    "#counts number of clashes \n",
    "#h = \n",
    "\n"
   ]
  },
  {
   "cell_type": "code",
   "execution_count": 27,
   "metadata": {},
   "outputs": [
    {
     "name": "stdout",
     "output_type": "stream",
     "text": [
      "?1030 Error: Duplicate column names are not allowed - column 810 would have same name as column 22302\n"
     ]
    },
    {
     "ename": "SolverError",
     "evalue": "?1030 Error: Duplicate column names are not allowed - column 810 would have same name as column 22302",
     "output_type": "error",
     "traceback": [
      "\u001b[1;31m---------------------------------------------------------------------------\u001b[0m",
      "\u001b[1;31mSolverError\u001b[0m                               Traceback (most recent call last)",
      "Cell \u001b[1;32mIn[27], line 2\u001b[0m\n\u001b[0;32m      1\u001b[0m \u001b[38;5;66;03m# Add the variables to the problem\u001b[39;00m\n\u001b[1;32m----> 2\u001b[0m \u001b[43mstage_1\u001b[49m\u001b[38;5;241;43m.\u001b[39;49m\u001b[43maddVariable\u001b[49m\u001b[43m(\u001b[49m\u001b[43mx\u001b[49m\u001b[43m,\u001b[49m\u001b[43m \u001b[49m\u001b[43my\u001b[49m\u001b[43m,\u001b[49m\u001b[43m \u001b[49m\u001b[43mz\u001b[49m\u001b[43m,\u001b[49m\u001b[43m \u001b[49m\u001b[43mw\u001b[49m\u001b[43m,\u001b[49m\u001b[43m \u001b[49m\u001b[43mr\u001b[49m\u001b[43m,\u001b[49m\u001b[43m \u001b[49m\u001b[43mv\u001b[49m\u001b[43m)\u001b[49m\n",
      "\u001b[1;31mSolverError\u001b[0m: ?1030 Error: Duplicate column names are not allowed - column 810 would have same name as column 22302"
     ]
    }
   ],
   "source": [
    "# Add the variables to the problem\n",
    "stage_1.addVariable(x, y, z, w, r, v)\n"
   ]
  },
  {
   "cell_type": "code",
   "execution_count": 60,
   "metadata": {},
   "outputs": [
    {
     "data": {
      "text/plain": [
       "[2,\n",
       " 1,\n",
       " 1,\n",
       " 1,\n",
       " 1,\n",
       " 1,\n",
       " 1,\n",
       " 1,\n",
       " 1,\n",
       " 1,\n",
       " 1,\n",
       " 1,\n",
       " 2,\n",
       " 1,\n",
       " 1,\n",
       " 1,\n",
       " 1,\n",
       " 1,\n",
       " 1,\n",
       " 3,\n",
       " 2,\n",
       " 2,\n",
       " 1,\n",
       " 2,\n",
       " 1,\n",
       " 1,\n",
       " 1,\n",
       " 1,\n",
       " 1,\n",
       " 1,\n",
       " 3,\n",
       " 1,\n",
       " 1,\n",
       " 2,\n",
       " 2,\n",
       " 1,\n",
       " 0,\n",
       " 1,\n",
       " 1,\n",
       " 1,\n",
       " 2,\n",
       " 1,\n",
       " 1,\n",
       " 1,\n",
       " 1,\n",
       " 2,\n",
       " 3]"
      ]
     },
     "execution_count": 60,
     "metadata": {},
     "output_type": "execute_result"
    }
   ],
   "source": [
    "type(workshop_hours[0])\n",
    "workshop_hours"
   ]
  },
  {
   "cell_type": "code",
   "execution_count": 64,
   "metadata": {},
   "outputs": [],
   "source": [
    "#Add constraints\n",
    "\n",
    "#C1: A course i in C should be assigned exactly L(c) lectures that is L(c)== #timeslots(c)\n",
    "C1_L = [xp.Sum(x[i, j, 0] for j in (timeslots)) == lecture_hours[i] for i in range(len(courses))]\n",
    "#for workshops\n",
    "C1_W = [xp.Sum(x[i, j, 1] for j in (timeslots)) == workshop_hours[i] for i in range(len(courses))]\n",
    "\n",
    "#C2: At s given time period we do not assign more courses than available rooms in general for both types\n",
    "\n",
    "#!!! separate the types\n",
    "C2 = [xp.Sum(x[i, j, k] for i in range(len(courses)) for k in range(len(class_type))) <= len(rooms) for j in (timeslots)]\n",
    "\n",
    "# Lectures on types 1, 3\n",
    "#C2_L = [x[i, j, 0] == 0 for i in range(len(courses)) for j in timeslots]\n",
    "# Workshops on types 2, 3\n",
    "#C2_W = [x[i, j, 0] == 0 for i in range(len(courses)) for j in timeslots]\n",
    "\n",
    "#C3: Makes sure that if a room is assigned to a course in a time period, then course is assigned to that time period\n",
    "C3 = [x[i,j,k] - y[i,j,s] >= 0 for i in range(len(courses)) for j in (timeslots) for k in range(len(class_type)) for s in range(len(capacities))]\n",
    "\n",
    "#C4: ?\n",
    "\n",
    "#C5: Calculates if classtypes from a course are planned on a day \n",
    "C5 = [xp.Sum(x[i,j,k] for j in (timeslots)) - z[i,d] >= 0 for i in range(len(courses)) for k in (range(len(class_type))) for d in range(len((days)))]\n",
    "\n",
    "#C6: Violation of mnd(c)\n",
    "#C6 = \n",
    "\n",
    "#C7: Only one course from curriculum is planned at timeslot t\n",
    "#NEED COURSES IN CURRICULA FOR THIS \n",
    "#C7 = [xp.Sum(x[i,j,k]-r[cu, j] for c in range(len(curricula))) == 0 for cu in range(len(curricula)) for j in (timeslots)]\n",
    "\n",
    "\n",
    "\n",
    "#C8: Calculates curriculum compactness violation \n",
    "#C8 = [-r[cu,j-1] + r[cu,j] - r[cu, j+1] - v[cu,j] <= 0 for cu in range(len(curricula)) for j in [1,2,3,4,5,6,7]]\n",
    "\n",
    "#C9: Demand is satisfied for classes\n",
    "\n",
    "C9 = [y[i, j, s] == 0 for i in range(len(courses)) for j in timeslots for s in range(len(capacities)) if s < demand[i]]"
   ]
  },
  {
   "cell_type": "code",
   "execution_count": null,
   "metadata": {},
   "outputs": [],
   "source": [
    "#Add constraints \n",
    "#stage_1.addConstraint(C1, )\n"
   ]
  },
  {
   "cell_type": "code",
   "execution_count": null,
   "metadata": {},
   "outputs": [],
   "source": [
    "#Write objective function \n",
    "stage_1.setObjective(x + y, sense = xp.minimize)"
   ]
  }
 ],
 "metadata": {
  "kernelspec": {
   "display_name": "Xpress",
   "language": "python",
   "name": "python3"
  },
  "language_info": {
   "codemirror_mode": {
    "name": "ipython",
    "version": 3
   },
   "file_extension": ".py",
   "mimetype": "text/x-python",
   "name": "python",
   "nbconvert_exporter": "python",
   "pygments_lexer": "ipython3",
   "version": "3.9.18"
  }
 },
 "nbformat": 4,
 "nbformat_minor": 2
}
