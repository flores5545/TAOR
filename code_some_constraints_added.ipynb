{
 "cells": [
  {
   "cell_type": "code",
   "execution_count": null,
   "metadata": {},
   "outputs": [],
   "source": [
    "#pip install pandas\n"
   ]
  },
  {
   "cell_type": "code",
   "execution_count": null,
   "metadata": {},
   "outputs": [],
   "source": [
    "#pip install matplotlib"
   ]
  },
  {
   "cell_type": "code",
   "execution_count": null,
   "metadata": {},
   "outputs": [],
   "source": [
    "pip install openpyxl"
   ]
  },
  {
   "cell_type": "code",
   "execution_count": null,
   "metadata": {},
   "outputs": [],
   "source": [
    "import xpress as xp\n",
    "import pandas as pd\n",
    "import numpy as np\n",
    "import matplotlib.pyplot as plt"
   ]
  },
  {
   "cell_type": "code",
   "execution_count": null,
   "metadata": {},
   "outputs": [],
   "source": [
    "# Create a problem \n",
    "\n",
    "stage_1 = xp.problem(name='F_O stage 1')"
   ]
  },
  {
   "cell_type": "code",
   "execution_count": null,
   "metadata": {},
   "outputs": [],
   "source": [
    "# Import data into panda dataframes\n",
    "\n",
    "df_rooms = pd.read_excel('Relevant Data Room.xlsx', header=0)\n",
    "df_course_demand = pd.read_excel('Course Data.xlsx', header=0, sheet_name = 'Dict')[['Size']]\n",
    "df_courses = pd.read_excel('Course Data.xlsx', header=0, sheet_name='Dict')\n",
    "df_curricula = pd.read_excel('Course Data.xlsx', header=0, sheet_name='Programs')\n",
    "\n",
    "df_rooms_types = pd.read_excel('Relevant Data Room.xlsx', header=0, sheet_name='ROOM_DIC')[['ROOM INDEX', 'ROOM NAME', 'CAP', 'ROOM LAYOUT']]\n",
    "#df_courses"
   ]
  },
  {
   "cell_type": "code",
   "execution_count": null,
   "metadata": {},
   "outputs": [],
   "source": [
    "cu_1 = list(df_curricula['Y1'])\n",
    "cu_2 = list(df_curricula['Y2'])\n",
    "cu_3 = list(df_curricula['Y3'])\n",
    "df_curricula"
   ]
  },
  {
   "cell_type": "code",
   "execution_count": null,
   "metadata": {},
   "outputs": [],
   "source": [
    "course_code = df_courses['Course Code'].to_numpy()\n",
    "course_code"
   ]
  },
  {
   "cell_type": "code",
   "execution_count": null,
   "metadata": {},
   "outputs": [],
   "source": [
    "df_curricula"
   ]
  },
  {
   "cell_type": "code",
   "execution_count": null,
   "metadata": {},
   "outputs": [],
   "source": [
    "cu_1 = list(df_curricula['Y1'])\n",
    "cu_2 = list(df_curricula['Y2'])\n",
    "cu_3 = list(df_curricula['Y3'])\n",
    "\n",
    "c = cu_1[7]\n",
    "c = c.split(',')\n",
    "i = np.where(np.isin(course_code, np.array(c)))\n",
    "print(c)\n",
    "print(i)\n",
    "print(course_code[23])"
   ]
  },
  {
   "cell_type": "code",
   "execution_count": null,
   "metadata": {},
   "outputs": [],
   "source": [
    "# Index sets\n",
    "courses = list(df_courses['Course'])\n",
    "course_code = df_courses['Course Code'].to_numpy()\n",
    "demand = list(df_course_demand['Size'])\n",
    "curricula = list(df_curricula['Code'])\n",
    "timeslots = [i for i in range(9*5)] \n",
    "print(timeslots)\n",
    "days = ['M_O', 'T_O', 'W_O', 'TH_O', 'F_O'] #Days for odd week\n",
    "rooms = list(df_rooms['ROOM INDEX'])\n",
    "room_type = [1,2,3]\n",
    "years = [1,2,3,4,5,'PGT']\n",
    "#Lectures can happen in Theatre, Classroom\n",
    "#Workshops happen in Teaching Studio, Classroom, Boardroom \n",
    "class_type = ['L', 'W']\n",
    "workshop_pattern = [1, 2, 3]\n",
    "\n",
    "capacities = sorted(np.append(df_rooms['CAP'].unique(), 0))\n",
    "# Parameters \n",
    "lecture_hours = list(df_courses['Lecture - Duration'])\n",
    "workshop_hours = list(df_courses['Workshop - Duration'])\n",
    "\n",
    "\n",
    "\n",
    "# Create the variables\n",
    "x = np.array([xp.var( name='x_{0}_{1}_{2}'.format(i, j, k), vartype=xp.binary)\n",
    "                  for i in courses for j in timeslots for k in class_type], dtype=xp.npvar).reshape(len(courses), len(timeslots), len(class_type))\n",
    "\n",
    "y = np.array([xp.var( name='y_{0}_{1}_{2}_{3}'.format(i, j, s, k), vartype=xp.binary)\n",
    "                  for i in courses for j in timeslots for s in capacities for k in class_type], dtype=xp.npvar).reshape(len(courses), len(timeslots), len(capacities), len(class_type))\n",
    "\n",
    "z = np.array([xp.var( name='z_{0}_{1}'.format(i, d), vartype=xp.binary)\n",
    "                  for i in courses for d in days], dtype=xp.npvar).reshape(len(courses), len(days))\n",
    "\n",
    "w = np.array([xp.var( name='w_{0}'.format(i))\n",
    "                    for i in courses], dtype=xp.npvar)\n",
    "\n",
    "r = np.array([xp.var( name='r_{0}_{1}_{2}'.format(cu, j, k), vartype=xp.binary)\n",
    "                  for  cu in curricula for j in timeslots for k in range(3)], dtype=xp.npvar).reshape(len(curricula), len(timeslots), 3)\n",
    "\n",
    "v = np.array([xp.var( name='v_{0}_{1}'.format(cu, j), vartype=xp.binary)\n",
    "                  for cu in curricula for j in timeslots], dtype=xp.npvar).reshape(len(curricula), len(timeslots))\n",
    "\n",
    "#counts number of clashes \n",
    "h = np.array([xp.var( name='h_{0}_{1}'.format(i, j))\n",
    "                    for i in years for j in timeslots], dtype=xp.npvar).reshape(len(years), len(timeslots))\n",
    "\n",
    "\n",
    "\n"
   ]
  },
  {
   "cell_type": "code",
   "execution_count": null,
   "metadata": {},
   "outputs": [],
   "source": [
    "# Add the variables to the problem\n",
    "stage_1.addVariable(x, y, z, w, r, v, h)\n",
    "\n"
   ]
  },
  {
   "cell_type": "code",
   "execution_count": null,
   "metadata": {},
   "outputs": [],
   "source": [
    "print(timeslots)\n"
   ]
  },
  {
   "cell_type": "code",
   "execution_count": null,
   "metadata": {},
   "outputs": [],
   "source": [
    "#Add constraints\n",
    "\n",
    "#C1: A course i in C should be assigned exactly L(c) lectures that is L(c)== #timeslots(c)\n",
    "C1_L = [xp.Sum(x[i, j, 0] for j in (timeslots)) == lecture_hours[i] for i in range(len(courses))]\n",
    "#for workshops\n",
    "C1_W = [xp.Sum(x[i, j, 1] for j in (timeslots)) == workshop_hours[i] for i in range(len(courses))]\n",
    "\n",
    "#C2: At s given time period we do not assign more courses than available rooms in general for both types\n",
    "\n",
    "#!!! separate the types\n",
    "C2 = [xp.Sum(x[i, j, k] for i in range(len(courses)) for k in range(len(class_type))) <= len(rooms) for j in (timeslots)]\n",
    "\n",
    "# Lectures on types 1, 3\n",
    "#C2_L = [x[i, j, 0] == 0 for i in range(len(courses)) for j in timeslots]\n",
    "# Workshops on types 2, 3\n",
    "#C2_W = [x[i, j, 0] == 0 for i in range(len(courses)) for j in timeslots]\n",
    "\n",
    "#C3: Makes sure that if a room is assigned to a course in a time period, then course is assigned to that time period\n",
    "C3 = [x[i,j,k] - y[i,j,s,k] >= 0 for i in range(len(courses)) for j in (timeslots) for k in range(len(class_type)) for s in range(len(capacities))]\n",
    "\n",
    "#C4: ?\n",
    "\n",
    "#C5: Calculates if classtypes from a course are planned on a day \n",
    "C5 = [xp.Sum(x[i,j,k] for j in (timeslots)) - z[i,d] >= 0 for i in range(len(courses)) for k in (range(len(class_type))) for d in range(len((days)))]\n",
    "\n",
    "#C6: Violation of mnd(c)\n",
    "#C6 = \n",
    "\n",
    "#C7: Only one course from curriculum is planned at timeslot t\n",
    "#NEED COURSES IN CURRICULA FOR THIS \n",
    "# REMEMBER TO CHANGE THISSSSS\n",
    "cu_1 = list(df_curricula['Y1'])\n",
    "cu_2 = list(df_curricula['Y2'])\n",
    "cu_3 = list(df_curricula['Y3'])\n",
    "\n",
    "\n",
    "C7_1 = [xp.Sum(x[i,j,k] for i in np.where(np.isin(course_code, np.array(cu_1[cu].split(', '))))[0] for k in range(len(class_type))) -r[cu, j, 0] == 0 for cu in range(len(curricula)) for j in (timeslots)]\n",
    "C7_2 = [xp.Sum(x[i,j,k] for i in np.where(np.isin(course_code, np.array(cu_2[cu].split(', '))))[0] for k in range(len(class_type))) -r[cu, j, 1] == 0 for cu in range(len(curricula)) for j in (timeslots)]\n",
    "C7_3 = [xp.Sum(x[i,j,k] for i in np.where(np.isin(course_code, np.array(cu_3[cu].split(', '))))[0] for k in range(len(class_type))) -r[cu, j, 2] == 0 for cu in range(len(curricula)) for j in (timeslots)]\n",
    "\n",
    "#C8: Calculates curriculum compactness violation \n",
    "#C8 = [-r[cu,j-1] + r[cu,j] - r[cu, j+1] - v[cu,j] <= 0 for cu in range(len(curricula)) for j in [1,2,3,4,5,6,7]]\n",
    "\n",
    "#C9: Demand is satisfied for classes\n",
    "\n",
    "C9 = [y[i, j, s, k] == 0 for i in range(len(courses)) for j in timeslots for k in range(len(class_type)) for s in range(len(capacities)) if s < demand[i]]\n",
    "\n",
    "\n",
    "\n",
    "df_courses_year = pd.read_excel('Course Data.xlsx', header=0, sheet_name='CoursesYears')\n",
    "year1_courses = df_courses_year['Y1'].dropna().to_numpy()\n",
    "year2_courses = df_courses_year['Y2'].dropna().to_numpy()\n",
    "year3_courses = df_courses_year['Y3'].dropna().to_numpy()\n",
    "year4_courses = df_courses_year['Y4'].dropna().to_numpy()\n",
    "year5_courses = df_courses_year['Y5'].dropna().to_numpy()\n",
    "pgt_courses = df_courses_year['PGT'].dropna().to_numpy()\n",
    "\n",
    "\n",
    "#C10 \n",
    "C10_1 = [xp.Sum(x[i,j,k] for i in np.where(np.isin(course_code, year1_courses))[0] for k in range(len(class_type))) <= h[0, j] for j in (timeslots)]\n",
    "C10_2 = [xp.Sum(x[i,j,k] for i in np.where(np.isin(course_code, year2_courses))[0] for k in range(len(class_type))) <= h[1, j] for j in (timeslots)]\n",
    "C10_3 = [xp.Sum(x[i,j,k] for i in np.where(np.isin(course_code, year3_courses))[0] for k in range(len(class_type))) <= h[2, j] for j in (timeslots)]\n",
    "C10_4 = [xp.Sum(x[i,j,k] for i in np.where(np.isin(course_code, year4_courses))[0] for k in range(len(class_type))) <= h[3, j] for j in (timeslots)]\n",
    "C10_5 = [xp.Sum(x[i,j,k] for i in np.where(np.isin(course_code, year5_courses))[0] for k in range(len(class_type))) <= h[4, j] for j in (timeslots)]\n",
    "C10_PGT = [xp.Sum(x[i,j,k] for i in np.where(np.isin(course_code, pgt_courses))[0] for k in range(len(class_type))) <= h[5, j] for j in (timeslots)]\n"
   ]
  },
  {
   "cell_type": "code",
   "execution_count": null,
   "metadata": {},
   "outputs": [],
   "source": [
    "#Add constraints \n",
    "#stage_1.addConstraint(C1_L, C1_W, C2, C3, C5, C7_1, C7_2, C7_3, C9, C10_1, C10_2, C10_3, C10_4, C10_5, C10_PGT)\n",
    "stage_1.addConstraint(C1_L, C1_W, C2, C3, C5, C7_1, C7_2, C7_3, C10_1, C10_2, C10_3, C10_4, C10_5, C10_PGT)"
   ]
  },
  {
   "cell_type": "code",
   "execution_count": null,
   "metadata": {},
   "outputs": [],
   "source": [
    "#Write objective function \n",
    "stage_1.setObjective(xp.Sum(h[i,j] for i in range(len(years)) for j in range(len(timeslots))), sense = xp.minimize)"
   ]
  },
  {
   "cell_type": "code",
   "execution_count": null,
   "metadata": {},
   "outputs": [],
   "source": [
    "stage_1.getConstraint()"
   ]
  },
  {
   "cell_type": "code",
   "execution_count": null,
   "metadata": {},
   "outputs": [],
   "source": [
    "stage_1.solve()"
   ]
  },
  {
   "cell_type": "code",
   "execution_count": null,
   "metadata": {},
   "outputs": [],
   "source": [
    "#make_df = pd.DataFrame(data = stage_1.getSolution(), index = course_code, columns = timeslots).to_numpy()\n",
    "make_df = pd.DataFrame(data = stage_1.getSolution(x)).to_numpy()\n",
    "print(make_df)\n",
    "make_df = make_df.reshape(len(courses), len(timeslots), len(class_type))\n",
    "make_df"
   ]
  },
  {
   "cell_type": "code",
   "execution_count": null,
   "metadata": {},
   "outputs": [],
   "source": [
    "# Create a problem \n",
    "\n",
    "stage_2 = xp.problem(name='F_O stage 2')"
   ]
  },
  {
   "cell_type": "code",
   "execution_count": null,
   "metadata": {},
   "outputs": [],
   "source": [
    "# Create the variables\n",
    "\n",
    "#u = np.array([xp.var( name='u_{0}_{1}_{2}_{3}'.format(i, j, k, l), vartype=xp.binary)\n",
    "#                  for i in courses for j in timeslots for k in rooms for l in class_type], dtype=xp.npvar).reshape(len(courses), len(timeslots), len(rooms), len(class_type))\n",
    "u = np.array([xp.var( name='u_{0}_{1}_{2}'.format(i, j, k), vartype=xp.binary)\n",
    "                  for i in courses for j in timeslots for k in rooms], dtype=xp.npvar).reshape(len(courses), len(timeslots), len(rooms))\n",
    "\n",
    "t = np.array([xp.var( name='t_{0}_{1}'.format(i, j), vartype=xp.binary)\n",
    "                  for i in courses for j in rooms], dtype=xp.npvar).reshape(len(courses), len(rooms))\n",
    "\n"
   ]
  },
  {
   "cell_type": "code",
   "execution_count": null,
   "metadata": {},
   "outputs": [],
   "source": [
    "# Add the variables to the problem\n",
    "stage_2.addVariable(u, t)"
   ]
  },
  {
   "cell_type": "code",
   "execution_count": null,
   "metadata": {},
   "outputs": [],
   "source": [
    "# Constraints\n",
    "# Remeber to change c_2 in accordance to solution from stage 1\n",
    "\n",
    "#b_2 = [xp.Sum(u[i, j, k, l] for j in timeslots) - len(timeslots) * t[i, k] <= 0 for i in range(len(courses)) for k in range(len(rooms)) for l in range(len(class_type))]\n",
    "#c_2 = [xp.Sum(u[i, j, k, l] for k in range(len(rooms))) == 1 for i in range(len(courses)) for j in timeslots for l in range(len(class_type))]\n",
    "#d_2 = [xp.Sum(u[i, j, k, l] for i in range(len(courses)) for j in timeslots) <= 1 for k in  range(len(rooms)) for l in range(len(class_type))]\n",
    "b_2 = [xp.Sum(u[i, j, k] for j in timeslots) - len(timeslots) * t[i, k] <= 0 for i in range(len(courses)) for k in range(len(rooms))]\n",
    "c_2 = [xp.Sum(u[i, j, k] for k in range(len(rooms))) == 1 for i in range(len(courses)) for j in timeslots]\n",
    "d_2 = [xp.Sum(u[i, j, k] for i in range(len(courses)) for j in timeslots) <= 1 for k in  range(len(rooms))]\n"
   ]
  },
  {
   "cell_type": "code",
   "execution_count": null,
   "metadata": {},
   "outputs": [],
   "source": [
    "stage_2.addConstraint(b_2, c_2, d_2)"
   ]
  },
  {
   "cell_type": "code",
   "execution_count": null,
   "metadata": {},
   "outputs": [],
   "source": [
    "stage_2.setObjective(xp.Sum(t[i, j] for i in range(len(courses)) for j in range(len(rooms))), sense = xp.minimize)\n",
    "stage_2.solve()"
   ]
  },
  {
   "cell_type": "code",
   "execution_count": null,
   "metadata": {},
   "outputs": [],
   "source": []
  }
 ],
 "metadata": {
  "kernelspec": {
   "display_name": "Xpress",
   "language": "python",
   "name": "python3"
  },
  "language_info": {
   "codemirror_mode": {
    "name": "ipython",
    "version": 3
   },
   "file_extension": ".py",
   "mimetype": "text/x-python",
   "name": "python",
   "nbconvert_exporter": "python",
   "pygments_lexer": "ipython3",
   "version": "3.9.18"
  }
 },
 "nbformat": 4,
 "nbformat_minor": 2
}
