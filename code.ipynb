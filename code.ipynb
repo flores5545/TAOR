{
 "cells": [
  {
   "cell_type": "code",
   "execution_count": null,
   "metadata": {},
   "outputs": [],
   "source": [
    "import xpress as xp\n",
    "import pandas as pd\n",
    "import numpy as np\n",
    "import matplotlib.pyplot as plt"
   ]
  },
  {
   "cell_type": "code",
   "execution_count": null,
   "metadata": {},
   "outputs": [],
   "source": [
    "# Create a problem \n",
    "\n",
    "stage_1 = xp.problem(name='F_O stage 1')"
   ]
  },
  {
   "cell_type": "code",
   "execution_count": null,
   "metadata": {},
   "outputs": [],
   "source": [
    "# Import data into panda dataframes\n",
    "\n",
    "df_rooms = pd.read_excel('Relevant Data Room.xlsx', header=0)\n",
    "df_courses = pd.read_excel('Course Data.xlsx', header=0)\n",
    "df_curricula = pd.read_excel('Baseline solution(ACHIEVED DELIVERABLE) and extracted data(ONGOING).xlsx', header=0, sheet_name='Curricula')\n",
    "\n",
    "df_courses"
   ]
  },
  {
   "cell_type": "code",
   "execution_count": null,
   "metadata": {},
   "outputs": [],
   "source": [
    "# Index sets\n",
    "courses = list(df_courses['Course'])\n",
    "lecture_hours = list(df_courses['Lecture - Duration'])\n",
    "workshop_hours = list(df_courses['Workshop - Duration'])\n",
    "curricula = list(df_curricula['Code'])\n",
    "timeslots = [i for i in range(9)]\n",
    "days = ['M_O', 'T_O', 'W_O', 'TH_O', 'F_O', 'M_E', 'T_E', 'W_E', 'TH_E', 'F_E']\n",
    "rooms = list(df_rooms['ROOM INDEX'])\n",
    "room_types = sorted(df_rooms['ROOM LAYOUT'].unique())\n",
    "class_type = ['L', 'W']\n",
    "workshop_pattern = [1, 2, 3]\n",
    "\n",
    "capacities = sorted(np.append(df_rooms['CAP'].unique(), 0))\n",
    "\n",
    "# Parameters \n",
    "#P1: The number of lecture hours for course c \n",
    "lecture_hours_dict = dict(zip(courses, lecture_hours))\n",
    "\n",
    "#P2: The number of workshop hours for course c \n",
    "workshop_hours_dict = dict(zip(courses, workshop_hours))\n",
    "\n",
    "\n",
    "# Create the variables\n",
    "x = np.array([xp.var( name='x_{0}_{1}_{2}'.format(i, j, k), vartype=xp.binary)\n",
    "                  for i in courses for j in timeslots for k in class_type], dtype=xp.npvar).reshape(len(courses), len(timeslots), len(class_type))\n",
    "\n",
    "y = np.array([xp.var( name='x_{0}_{1}_{2}'.format(i, j, k), vartype=xp.binary)\n",
    "                  for i in courses for j in timeslots for k in capacities], dtype=xp.npvar).reshape(len(courses), len(timeslots), len(capacities))\n",
    "\n",
    "z = np.array([xp.var( name='z_{0}_{1}'.format(i, j), vartype=xp.binary)\n",
    "                  for i in courses for j in days], dtype=xp.npvar).reshape(len(courses), len(days))\n",
    "\n",
    "w = np.array([xp.var( name='w_{0}'.format(i))\n",
    "                    for i in courses], dtype=xp.npvar)\n",
    "\n",
    "r = np.array([xp.var( name='r_{0}_{1}'.format(i, j), vartype=xp.binary)\n",
    "                  for i in curricula for j in timeslots], dtype=xp.npvar).reshape(len(curricula), len(timeslots))\n",
    "\n",
    "v = np.array([xp.var( name='v_{0}_{1}'.format(i, j), vartype=xp.binary)\n",
    "                  for i in curricula for j in timeslots], dtype=xp.npvar).reshape(len(curricula), len(timeslots))\n"
   ]
  },
  {
   "cell_type": "code",
   "execution_count": null,
   "metadata": {},
   "outputs": [],
   "source": [
    "stage_1.addVariable(x, y, z, w, r, v)"
   ]
  },
  {
   "cell_type": "code",
   "execution_count": null,
   "metadata": {},
   "outputs": [],
   "source": [
    "#Add constraints\n",
    "\n",
    "#C1: A course i in C should be assigned exactly L(c) lectures that is L(c)== #timeslots(c)\n",
    "#C1 = [xp.Sum(x[i, j, k] for j in (timeslots)) == lecture_hours_dict[i] for i in (courses) for k in (class_type) if k == 0]\n",
    "C1 = [xp.Sum(x[i, j, 0] for j in (timeslots)) == lecture_hours[i] for i in range(len(courses))]\n"
   ]
  },
  {
   "cell_type": "markdown",
   "metadata": {},
   "source": [
    "**STAGE 2**"
   ]
  },
  {
   "cell_type": "code",
   "execution_count": null,
   "metadata": {},
   "outputs": [],
   "source": [
    "# Create a problem \n",
    "\n",
    "stage_2 = xp.problem(name='F_O stage 2')"
   ]
  },
  {
   "cell_type": "code",
   "execution_count": null,
   "metadata": {},
   "outputs": [],
   "source": [
    "# Create the variables\n",
    "\n",
    "#u = np.array([xp.var( name='u_{0}_{1}_{2}_{3}'.format(i, j, k, l), vartype=xp.binary)\n",
    "#                  for i in courses for j in timeslots for k in rooms for l in class_type], dtype=xp.npvar).reshape(len(courses), len(timeslots), len(rooms), len(class_type))\n",
    "u = np.array([xp.var( name='u_{0}_{1}_{2}'.format(i, j, k), vartype=xp.binary)\n",
    "                  for i in courses for j in timeslots for k in rooms], dtype=xp.npvar).reshape(len(courses), len(timeslots), len(rooms))\n",
    "\n",
    "t = np.array([xp.var( name='t_{0}_{1}'.format(i, j), vartype=xp.binary)\n",
    "                  for i in courses for j in rooms], dtype=xp.npvar).reshape(len(courses), len(rooms))\n",
    "\n",
    "\n"
   ]
  },
  {
   "cell_type": "code",
   "execution_count": null,
   "metadata": {},
   "outputs": [],
   "source": [
    "# Add the variables to the problem\n",
    "stage_2.addVariable(u, t)"
   ]
  },
  {
   "cell_type": "code",
   "execution_count": null,
   "metadata": {},
   "outputs": [],
   "source": [
    "# Constraints\n",
    "# Remeber to change c_2 in accordance to solution from stage 1\n",
    "\n",
    "#b_2 = [xp.Sum(u[i, j, k, l] for j in timeslots) - len(timeslots) * t[i, k] <= 0 for i in range(len(courses)) for k in range(len(rooms)) for l in range(len(class_type))]\n",
    "#c_2 = [xp.Sum(u[i, j, k, l] for k in range(len(rooms))) == 1 for i in range(len(courses)) for j in timeslots for l in range(len(class_type))]\n",
    "#d_2 = [xp.Sum(u[i, j, k, l] for i in range(len(courses)) for j in timeslots) <= 1 for k in  range(len(rooms)) for l in range(len(class_type))]\n",
    "b_2 = [xp.Sum(u[i, j, k] for j in timeslots) - len(timeslots) * t[i, k] <= 0 for i in range(len(courses)) for k in range(len(rooms))]\n",
    "c_2 = [xp.Sum(u[i, j, k] for k in range(len(rooms))) == 1 for i in range(len(courses)) for j in timeslots]\n",
    "d_2 = [xp.Sum(u[i, j, k] for i in range(len(courses)) for j in timeslots) <= 1 for k in  range(len(rooms))]\n",
    "\n"
   ]
  },
  {
   "cell_type": "code",
   "execution_count": null,
   "metadata": {},
   "outputs": [],
   "source": [
    "stage_2.addConstraint(b_2, c_2, d_2)"
   ]
  },
  {
   "cell_type": "code",
   "execution_count": null,
   "metadata": {},
   "outputs": [],
   "source": [
    "stage_2.setObjective(xp.Sum(t[i, j] for i in range(len(courses)) for j in range(len(rooms))), sense = xp.minimize)\n",
    "stage_2.solve()"
   ]
  },
  {
   "cell_type": "code",
   "execution_count": null,
   "metadata": {},
   "outputs": [],
   "source": []
  },
  {
   "cell_type": "code",
   "execution_count": null,
   "metadata": {},
   "outputs": [],
   "source": []
  }
 ],
 "metadata": {
  "kernelspec": {
   "display_name": "Xpress",
   "language": "python",
   "name": "python3"
  },
  "language_info": {
   "codemirror_mode": {
    "name": "ipython",
    "version": 3
   },
   "file_extension": ".py",
   "mimetype": "text/x-python",
   "name": "python",
   "nbconvert_exporter": "python",
   "pygments_lexer": "ipython3",
   "version": "3.9.18"
  }
 },
 "nbformat": 4,
 "nbformat_minor": 2
}
